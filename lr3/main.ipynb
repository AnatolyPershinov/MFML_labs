{
 "cells": [
  {
   "cell_type": "markdown",
   "metadata": {},
   "source": [
    "1. Реализуйте сингулярное матричные разложения (не используя готовые решения вроде numpy.linalg.svd, или numpy.linalg.eig для поиска собственных векторов и чисел);\n",
    "2. Выберите произвольный многомерный массив данных, содержащий минимум 5\n",
    "признаков;\n",
    "3. Используйте написанный метод сингулярного разложения для получения матрицы преобразований данных к главным компонентам и значения объясняемых\n",
    "дисперсий. Опишите ограничения применимости реализаций SVD к решению\n",
    "данной задачи;\n",
    "4. Определите достаточное число компонент для описания процесса, визуализируйте данные и проведите анализ полученных компонент;\n",
    "5. (Дополнительное задание) Реализуйте методы сингулярного разложения матрицы, имеющие меньшую вычислительную сложность, чем классический подход, основанный на собственных векторах и собственных числах матрицы XT X"
   ]
  },
  {
   "cell_type": "code",
   "execution_count": 35,
   "metadata": {},
   "outputs": [],
   "source": [
    "import numpy as np\n",
    "import math\n"
   ]
  },
  {
   "cell_type": "code",
   "execution_count": 36,
   "metadata": {},
   "outputs": [
    {
     "name": "stdout",
     "output_type": "stream",
     "text": [
      "[[ 2  0 -1]\n",
      " [ 0  2 -1]\n",
      " [-1 -1  1]] [[ 2  0 -2]\n",
      " [ 0  2 -1]\n",
      " [-2 -1  0]]\n",
      "None\n"
     ]
    }
   ],
   "source": [
    "def eig(A):\n",
    "    \"\"\"мой методы вычисления собсвтенных чисел\n",
    "    используется метод вращений\n",
    "    U = [[]]\n",
    "    \n",
    "    Ut*A*U = V\n",
    "    \"\"\"\n",
    "    \n",
    "    \n",
    "    \"\"\"\n",
    "for (unsigned int i=0; i<N-1; ++i) \n",
    "    {\n",
    "    for (unsigned int j=i+2; j<N; ++j)               \n",
    "        {\n",
    "            t = 2*matr[i][j]/(matr[i][i] - matr[j][j]);\n",
    "            phi = 0.5 * atan(t);\n",
    "            c = cos(phi);\n",
    "            s = sin(phi);\n",
    " \n",
    "            bii = c*c*matr[i][i] + 2*c*s*matr[i][j] + s*s*matr[j][j];\n",
    "            bij = s*c*(matr[j][j] - matr[i][i]) + matr[i][j] * (c*c - s*s);\n",
    "            bjj = s*s*matr[i][i] + c*c*matr[j][j] - 2*c*s*matr[i][j];\n",
    "            bji = bij;\n",
    " \n",
    "            matr[i][i] = bii;\n",
    "            matr[i][j] = bij;\n",
    "            matr[j][i] = bji;\n",
    "            matr[j][j] = bjj;\n",
    "        }\n",
    "    }\n",
    "\n",
    "    Returns:\n",
    "        _type_: _description_\n",
    "    \"\"\"\n",
    "    B = A.copy()\n",
    "    N = A.shape[0]\n",
    "    for i in range(0, N-1):\n",
    "        for j in range(i+2, N):\n",
    "            t = 2*A[i][j] / A[i][i] - A[j][j]\n",
    "            phi = 0.5 * math.atan(t)\n",
    "            c = math.cos(phi)\n",
    "            s = math.sin(phi)\n",
    "            \n",
    "            bii = c*c*A[i][i] + 2*c*s*A[i][j] + s*s*A[j][j]\n",
    "            bij = s*c*A[j][j] - A[i][i] + A[i][j]* (c*c - s*s)\n",
    "            bjj = s*s*A[i][i] + c*c*A[j][j] - 2*c*s*A[i][j]\n",
    "            bji = bij\n",
    "            \n",
    "            B[i][i] = bii\n",
    "            B[i][j] = bij\n",
    "            B[j][i] = bji\n",
    "            B[j][j] = bjj\n",
    "            \n",
    "    print(A, B)\n",
    "\n",
    "\n",
    "    \n",
    "\n",
    "def svd(data):\n",
    "    \"\"\"мой метод сингулярного разложения\"\"\"\n",
    "    \n",
    "    A = data # исходная матрица А\n",
    "    At = A.transpose() # транспонированная матрица А\n",
    "    AtA = np.dot(At, A) # произведение транспонированной матрицы At на А\n",
    "    \n",
    "    \"\"\"\"\"\"\n",
    "    \n",
    "    \"\"\"\n",
    "    [[2-x 0 -1]\n",
    "    [0 2-x -1]\n",
    "    [-1 -1 1-x]]\n",
    "    \n",
    "    (2-x) * x(-3+x) = 0\n",
    "    \"\"\"\n",
    "\n",
    "\n",
    "    return eig(AtA)\n",
    "    \n",
    "    \n",
    "\n",
    "test = np.array([[-1, 1, 0], [-1, -1, 1]])\n",
    "print(svd(test))"
   ]
  }
 ],
 "metadata": {
  "kernelspec": {
   "display_name": "Python 3.7.0 ('env')",
   "language": "python",
   "name": "python3"
  },
  "language_info": {
   "codemirror_mode": {
    "name": "ipython",
    "version": 3
   },
   "file_extension": ".py",
   "mimetype": "text/x-python",
   "name": "python",
   "nbconvert_exporter": "python",
   "pygments_lexer": "ipython3",
   "version": "3.7.0"
  },
  "orig_nbformat": 4,
  "vscode": {
   "interpreter": {
    "hash": "e3ae31fd393212dc7664656d6f79d3f3b292c47d33f5a1596366ea99a27bfc62"
   }
  }
 },
 "nbformat": 4,
 "nbformat_minor": 2
}
